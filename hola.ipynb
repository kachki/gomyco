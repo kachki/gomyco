{
 "cells": [
  {
   "cell_type": "code",
   "execution_count": 11,
   "id": "1f2e80c3",
   "metadata": {},
   "outputs": [
    {
     "name": "stdout",
     "output_type": "stream",
     "text": [
      "hola\n"
     ]
    }
   ],
   "source": [
    "print(\"hola\")"
   ]
  },
  {
   "cell_type": "code",
   "execution_count": 12,
   "id": "0a4365cc",
   "metadata": {},
   "outputs": [
    {
     "name": "stdout",
     "output_type": "stream",
     "text": [
      "ton age stp:61\n",
      "c comment la retraite\n"
     ]
    }
   ],
   "source": [
    "n=int(input(\"ton age stp:\"))\n",
    "if n<18:\n",
    "    print(\" t trop petit en faite\")\n",
    "elif n<60:\n",
    "    print(\"t un aduld bravo\")\n",
    "else:\n",
    "    print(\"c comment la retraite\")"
   ]
  },
  {
   "cell_type": "code",
   "execution_count": 16,
   "id": "8853af83",
   "metadata": {},
   "outputs": [
    {
     "name": "stdout",
     "output_type": "stream",
     "text": [
      "[]\n"
     ]
    }
   ],
   "source": [
    "numbers=range(1000,10)\n",
    "print(list(numbers))"
   ]
  },
  {
   "cell_type": "code",
   "execution_count": 18,
   "id": "3a41ca3d",
   "metadata": {},
   "outputs": [
    {
     "name": "stdout",
     "output_type": "stream",
     "text": [
      "10\n",
      "20\n",
      "30\n",
      "40\n",
      "50\n",
      "60\n",
      "70\n",
      "80\n",
      "90\n"
     ]
    }
   ],
   "source": [
    "for i in range(10,100,10):\n",
    "    print (i)"
   ]
  },
  {
   "cell_type": "code",
   "execution_count": 12,
   "id": "592274e4",
   "metadata": {},
   "outputs": [
    {
     "name": "stdout",
     "output_type": "stream",
     "text": [
      "donne un nombre stp7\n",
      "voici son nb binaire: 111\n"
     ]
    }
   ],
   "source": [
    "i=int(input(\"donne un nombre stp\"))\n",
    "s = \"\"\n",
    "while i>=1:\n",
    "    s = str(i%2) + s\n",
    "    i = i // 2\n",
    "  \n",
    "print(\"voici son nb binaire:\",\"\"+s)"
   ]
  },
  {
   "cell_type": "code",
   "execution_count": null,
   "id": "b0355c4c",
   "metadata": {},
   "outputs": [],
   "source": []
  },
  {
   "cell_type": "code",
   "execution_count": null,
   "id": "7ae76d76",
   "metadata": {},
   "outputs": [],
   "source": []
  },
  {
   "cell_type": "code",
   "execution_count": null,
   "id": "fd2307ce",
   "metadata": {},
   "outputs": [],
   "source": []
  },
  {
   "cell_type": "code",
   "execution_count": null,
   "id": "ea7aa6c5",
   "metadata": {},
   "outputs": [],
   "source": []
  }
 ],
 "metadata": {
  "kernelspec": {
   "display_name": "Python 3 (ipykernel)",
   "language": "python",
   "name": "python3"
  },
  "language_info": {
   "codemirror_mode": {
    "name": "ipython",
    "version": 3
   },
   "file_extension": ".py",
   "mimetype": "text/x-python",
   "name": "python",
   "nbconvert_exporter": "python",
   "pygments_lexer": "ipython3",
   "version": "3.9.12"
  }
 },
 "nbformat": 4,
 "nbformat_minor": 5
}
